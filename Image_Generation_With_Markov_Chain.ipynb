{
  "nbformat": 4,
  "nbformat_minor": 0,
  "metadata": {
    "colab": {
      "provenance": [],
      "authorship_tag": "ABX9TyOpPijoVIqIjUt61Fvn1wax",
      "include_colab_link": true
    },
    "kernelspec": {
      "name": "python3",
      "display_name": "Python 3"
    },
    "language_info": {
      "name": "python"
    }
  },
  "cells": [
    {
      "cell_type": "markdown",
      "metadata": {
        "id": "view-in-github",
        "colab_type": "text"
      },
      "source": [
        "<a href=\"https://colab.research.google.com/github/Subhash11520/PRODIGY_GA_03/blob/main/Image_Generation_With_Markov_Chain.ipynb\" target=\"_parent\"><img src=\"https://colab.research.google.com/assets/colab-badge.svg\" alt=\"Open In Colab\"/></a>"
      ]
    },
    {
      "cell_type": "code",
      "execution_count": 1,
      "metadata": {
        "id": "3awa-oXE1nNL"
      },
      "outputs": [],
      "source": [
        "import random"
      ]
    },
    {
      "cell_type": "code",
      "source": [
        "sample_text = \"\"\"\n",
        "Once upon a time there was a king who ruled a vast kingdom.\n",
        "The king was kind and generous, and the people loved him dearly.\n",
        "One day, the king decided to hold a great feast for everyone in the land.\n",
        "\"\"\""
      ],
      "metadata": {
        "id": "Mh5i4zzR1vug"
      },
      "execution_count": 2,
      "outputs": []
    },
    {
      "cell_type": "code",
      "source": [
        "words = sample_text.split()"
      ],
      "metadata": {
        "id": "P38GxXNP1v4a"
      },
      "execution_count": 3,
      "outputs": []
    },
    {
      "cell_type": "code",
      "source": [
        "markov_chain = {}\n",
        "\n",
        "for i in range(len(words)-1):\n",
        "    current_word = words[i]\n",
        "    next_word = words[i+1]\n",
        "\n",
        "    if current_word not in markov_chain:\n",
        "        markov_chain[current_word] = []\n",
        "\n",
        "    markov_chain[current_word].append(next_word)"
      ],
      "metadata": {
        "id": "Q08m3SMM1v9N"
      },
      "execution_count": 4,
      "outputs": []
    },
    {
      "cell_type": "code",
      "source": [
        "def generate_text(chain, num_words=30):\n",
        "    # Start from a random word\n",
        "    word = random.choice(list(chain.keys()))\n",
        "    output = [word]\n",
        "\n",
        "    for _ in range(num_words-1):\n",
        "        if word in chain:\n",
        "            word = random.choice(chain[word])\n",
        "            output.append(word)\n",
        "        else:\n",
        "            break\n",
        "\n",
        "    return ' '.join(output)\n",
        "\n",
        "print(generate_text(markov_chain, 30))"
      ],
      "metadata": {
        "colab": {
          "base_uri": "https://localhost:8080/"
        },
        "id": "_tk6iPxS1v_-",
        "outputId": "738bae3c-8a5a-432d-8ccb-98b8e3a93662"
      },
      "execution_count": 6,
      "outputs": [
        {
          "output_type": "stream",
          "name": "stdout",
          "text": [
            "king who ruled a great feast for everyone in the people loved him dearly. One day, the king who ruled a king who ruled a time there was a time\n"
          ]
        }
      ]
    }
  ]
}